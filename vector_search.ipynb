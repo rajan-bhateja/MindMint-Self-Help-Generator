{
 "cells": [
  {
   "cell_type": "code",
   "id": "initial_id",
   "metadata": {
    "collapsed": true,
    "ExecuteTime": {
     "end_time": "2025-06-24T07:40:47.577494Z",
     "start_time": "2025-06-24T07:40:47.557429Z"
    }
   },
   "source": [
    "from langchain_community.document_loaders import TextLoader\n",
    "from langchain_text_splitters import RecursiveCharacterTextSplitter\n",
    "from langchain_google_genai import GoogleGenerativeAIEmbeddings\n",
    "\n",
    "from dotenv import load_dotenv"
   ],
   "outputs": [],
   "execution_count": 23
  },
  {
   "metadata": {
    "ExecuteTime": {
     "end_time": "2025-06-24T07:40:51.933079Z",
     "start_time": "2025-06-24T07:40:51.925672Z"
    }
   },
   "cell_type": "code",
   "source": "load_dotenv()",
   "id": "d2ca33fc9a1f2c6d",
   "outputs": [
    {
     "data": {
      "text/plain": [
       "True"
      ]
     },
     "execution_count": 24,
     "metadata": {},
     "output_type": "execute_result"
    }
   ],
   "execution_count": 24
  },
  {
   "metadata": {
    "ExecuteTime": {
     "end_time": "2025-06-24T07:29:50.544416Z",
     "start_time": "2025-06-24T07:29:50.538332Z"
    }
   },
   "cell_type": "code",
   "source": [
    "data = TextLoader(\"books/a_message_to_garcia.txt\", encoding=\"utf-8\").load()\n",
    "text_splitter = RecursiveCharacterTextSplitter(separators=\"\\n\", chunk_size=1000, chunk_overlap=200)\n",
    "raw_documents = text_splitter.split_documents(data)"
   ],
   "id": "6c485a5997d28143",
   "outputs": [],
   "execution_count": 15
  },
  {
   "metadata": {
    "ExecuteTime": {
     "end_time": "2025-06-24T07:31:08.187377Z",
     "start_time": "2025-06-24T07:31:08.180193Z"
    }
   },
   "cell_type": "code",
   "source": "raw_documents[0].page_content",
   "id": "3c4c7380ebac4464",
   "outputs": [
    {
     "data": {
      "text/plain": [
       "\"A MESSAGE TO GARCIA\\n\\nBeing a Preachment\\n\\nby\\n\\nElbert Hubbard.\\n\\n\\n\\n\\n\\n\\n\\n[Illustration: Elbert Hubbard]\\n\\n\\n\\n[Illustration]\\n\\n\\n\\nDone into a Printed Book\\nby the Roycrofters at\\nTheir Shop, Which Is in East\\nAurora, Erie County, N.Y.\\nCopyright 1914 by Elbert Hubbard\\n\\n\\n\\n\\n\\nAPOLOGIA\\n\\n\\n\\n\\nHORSE SENSE\\n\\nIf you work for a man, in Heaven's name work for him. If he pays wages\\nthat supply you your bread and butter, work for him, speak well of\\nhim, think well of him, and stand by him, and stand by the institution\\nhe represents. I think if I worked for a man, I would work for him.\\nI would not work for him a part of his time, but all of his time. I\\nwould give an undivided service or none. If put to the pinch, an\\nounce of loyalty is worth a pound of cleverness. If you must vilify,\\ncondemn, and eternally disparage, why, resign your position, and when\\nyou are outside, damn to your heart's content. But, I pray you, so\\nlong as you are a part of an institution, do not condemn it. Not that\""
      ]
     },
     "execution_count": 18,
     "metadata": {},
     "output_type": "execute_result"
    }
   ],
   "execution_count": 18
  },
  {
   "metadata": {
    "ExecuteTime": {
     "end_time": "2025-06-24T07:40:56.069841Z",
     "start_time": "2025-06-24T07:40:56.006253Z"
    }
   },
   "cell_type": "code",
   "source": "embeddings = GoogleGenerativeAIEmbeddings(model=\"gemini-embedding-exp-03-07\")",
   "id": "321adf3209591fce",
   "outputs": [],
   "execution_count": 25
  },
  {
   "metadata": {},
   "cell_type": "code",
   "outputs": [],
   "execution_count": null,
   "source": "",
   "id": "ade05fb72b0ebf37"
  }
 ],
 "metadata": {
  "kernelspec": {
   "display_name": "Python 3",
   "language": "python",
   "name": "python3"
  },
  "language_info": {
   "codemirror_mode": {
    "name": "ipython",
    "version": 2
   },
   "file_extension": ".py",
   "mimetype": "text/x-python",
   "name": "python",
   "nbconvert_exporter": "python",
   "pygments_lexer": "ipython2",
   "version": "2.7.6"
  }
 },
 "nbformat": 4,
 "nbformat_minor": 5
}
