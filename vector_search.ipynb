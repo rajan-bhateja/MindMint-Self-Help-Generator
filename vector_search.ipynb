{
 "cells": [
  {
   "cell_type": "code",
   "id": "initial_id",
   "metadata": {
    "collapsed": true,
    "ExecuteTime": {
     "end_time": "2025-06-24T10:15:20.034452Z",
     "start_time": "2025-06-24T10:15:20.026272Z"
    }
   },
   "source": [
    "from langchain_community.document_loaders import TextLoader\n",
    "from langchain_text_splitters import RecursiveCharacterTextSplitter\n",
    "from langchain_google_genai import GoogleGenerativeAIEmbeddings, ChatGoogleGenerativeAI\n",
    "from langchain_community.vectorstores import FAISS\n",
    "\n",
    "import faiss\n",
    "\n",
    "import os\n",
    "from dotenv import load_dotenv"
   ],
   "outputs": [],
   "execution_count": 92
  },
  {
   "metadata": {
    "ExecuteTime": {
     "end_time": "2025-06-24T07:40:51.933079Z",
     "start_time": "2025-06-24T07:40:51.925672Z"
    }
   },
   "cell_type": "code",
   "source": "load_dotenv()",
   "id": "d2ca33fc9a1f2c6d",
   "outputs": [
    {
     "data": {
      "text/plain": [
       "True"
      ]
     },
     "execution_count": 24,
     "metadata": {},
     "output_type": "execute_result"
    }
   ],
   "execution_count": 24
  },
  {
   "metadata": {
    "ExecuteTime": {
     "end_time": "2025-06-24T09:13:18.230051Z",
     "start_time": "2025-06-24T09:13:18.223177Z"
    }
   },
   "cell_type": "code",
   "source": [
    "books_list = os.listdir(\"books\")\n",
    "books_list"
   ],
   "id": "3d8071417dcac386",
   "outputs": [
    {
     "data": {
      "text/plain": [
       "['as_a_man_thinketh.txt',\n",
       " 'a_message_to_garcia.txt',\n",
       " 'character_building.txt',\n",
       " 'essays_by_ralph_waldo_emerson.txt',\n",
       " 'how_to_live_on_24_hours_a_day.txt',\n",
       " 'meditations.txt',\n",
       " 'the_art_of_public_speaking.txt',\n",
       " 'the_art_of_war.txt',\n",
       " 'the_kybalion.txt',\n",
       " 'the_power_of_concentration.txt',\n",
       " 'the_science_of_getting_rich.txt',\n",
       " 'the_way_to_wealth.txt']"
      ]
     },
     "execution_count": 34,
     "metadata": {},
     "output_type": "execute_result"
    }
   ],
   "execution_count": 34
  },
  {
   "metadata": {},
   "cell_type": "markdown",
   "source": "### Text Splitting",
   "id": "33242a6a1dab123"
  },
  {
   "metadata": {
    "ExecuteTime": {
     "end_time": "2025-06-24T09:21:48.442551Z",
     "start_time": "2025-06-24T09:21:48.438793Z"
    }
   },
   "cell_type": "code",
   "source": "raw_documents = []",
   "id": "4dd5053e11051255",
   "outputs": [],
   "execution_count": 42
  },
  {
   "metadata": {
    "ExecuteTime": {
     "end_time": "2025-06-24T09:21:49.371707Z",
     "start_time": "2025-06-24T09:21:49.274267Z"
    }
   },
   "cell_type": "code",
   "source": [
    "for book in books_list:\n",
    "    loader = TextLoader(os.path.join(\"books\", book), encoding=\"utf-8\")\n",
    "    documents = loader.load()\n",
    "    text_splitter = RecursiveCharacterTextSplitter(chunk_size=1000, chunk_overlap=200, separators=[\"\\n\"])\n",
    "    chunks = text_splitter.split_documents(documents)\n",
    "    raw_documents.extend(chunks)"
   ],
   "id": "9c50b1f7bfc4869a",
   "outputs": [],
   "execution_count": 43
  },
  {
   "metadata": {
    "ExecuteTime": {
     "end_time": "2025-06-24T09:23:42.842164Z",
     "start_time": "2025-06-24T09:23:42.834338Z"
    }
   },
   "cell_type": "code",
   "source": "raw_documents[0].page_content",
   "id": "f9c18dc7b6a5134d",
   "outputs": [
    {
     "data": {
      "text/plain": [
       "'AS A MAN THINKETH\\n\\n\\nBY\\n\\nJAMES ALLEN\\n\\n\\nAuthor of \"From Passion to Peace\"\\n\\n\\n\\n  _Mind is the Master power that moulds and makes,\\n  And Man is Mind, and evermore he takes\\n  The tool of Thought, and, shaping what he wills,\\n  Brings forth a thousand joys, a thousand ills:--\\n  He thinks in secret, and it comes to pass:\\n  Environment is but his looking-glass._\\n\\n\\n\\nAuthorized Edition\\n\\nNew York\\n\\n\\n\\n\\n\\nCONTENTS\\n\\n\\nTHOUGHT AND CHARACTER\\n\\nEFFECT OF THOUGHT ON CIRCUMSTANCES\\n\\nEFFECT OF THOUGHT ON HEALTH AND THE BODY\\n\\nTHOUGHT AND PURPOSE\\n\\nTHE THOUGHT-FACTOR IN ACHIEVEMENT\\n\\nVISIONS AND IDEALS\\n\\nSERENITY\\n\\n\\n\\n\\n\\n\\nFOREWORD\\n\\n\\nTHIS little volume (the result of meditation and experience) is not\\nintended as an exhaustive treatise on the much-written-upon subject\\nof the power of thought. It is suggestive rather than explanatory,\\nits object being to stimulate men and women to the discovery and\\nperception of the truth that--\\n\\n\"They themselves are makers of themselves.\"'"
      ]
     },
     "execution_count": 47,
     "metadata": {},
     "output_type": "execute_result"
    }
   ],
   "execution_count": 47
  },
  {
   "metadata": {
    "ExecuteTime": {
     "end_time": "2025-06-24T09:38:58.768338Z",
     "start_time": "2025-06-24T09:38:58.758673Z"
    }
   },
   "cell_type": "code",
   "source": "raw_documents[1].page_content",
   "id": "560636e7ec749709",
   "outputs": [
    {
     "data": {
      "text/plain": [
       "'its object being to stimulate men and women to the discovery and\\nperception of the truth that--\\n\\n\"They themselves are makers of themselves.\"\\n\\nby virtue of the thoughts, which they choose and encourage; that\\nmind is the master-weaver, both of the inner garment of character\\nand the outer garment of circumstance, and that, as they may have\\nhitherto woven in ignorance and pain they may now weave in\\nenlightenment and happiness.\\n\\nJAMES ALLEN.\\n\\nBROAD PARK AVENUE,\\n\\nILFRACOMBE,\\n\\nENGLAND\\n\\n\\n\\n\\n\\nAS A MAN THINKETH\\n\\n\\n\\n\\nTHOUGHT AND CHARACTER\\n\\n\\nTHE aphorism, \"As a man thinketh in his heart so is he,\" not only\\nembraces the whole of a man\\'s being, but is so comprehensive as to\\nreach out to every condition and circumstance of his life. A man is\\nliterally _what he thinks,_ his character being the complete sum of\\nall his thoughts.\\n\\nAs the plant springs from, and could not be without, the seed, so\\nevery act of a man springs from the hidden seeds of thought, and'"
      ]
     },
     "execution_count": 56,
     "metadata": {},
     "output_type": "execute_result"
    }
   ],
   "execution_count": 56
  },
  {
   "metadata": {
    "ExecuteTime": {
     "end_time": "2025-06-24T09:26:14.693820Z",
     "start_time": "2025-06-24T09:26:14.687258Z"
    }
   },
   "cell_type": "code",
   "source": "len(raw_documents)",
   "id": "fa174685e58a04be",
   "outputs": [
    {
     "data": {
      "text/plain": [
       "3134"
      ]
     },
     "execution_count": 49,
     "metadata": {},
     "output_type": "execute_result"
    }
   ],
   "execution_count": 49
  },
  {
   "metadata": {},
   "cell_type": "markdown",
   "source": "### Word Embeddings and Vector Database (using FAISS)",
   "id": "d4be4b33596e344c"
  },
  {
   "metadata": {
    "ExecuteTime": {
     "end_time": "2025-06-24T10:00:04.209130Z",
     "start_time": "2025-06-24T10:00:04.154582Z"
    }
   },
   "cell_type": "code",
   "source": [
    "embeddings = GoogleGenerativeAIEmbeddings(model=\"models/text-embedding-004\")\n",
    "index_dir = \"word_embeddings\"\n",
    "\n",
    "if os.path.exists(index_dir):\n",
    "    vector_store = FAISS.load_local(index_dir, embeddings, allow_dangerous_deserialization=True)\n",
    "\n",
    "else:\n",
    "    raw_documents = []\n",
    "\n",
    "    for book in books_list:\n",
    "        loader = TextLoader(os.path.join(\"books\", book), encoding=\"utf-8\")\n",
    "        documents = loader.load()\n",
    "        chunks = text_splitter.split_documents(documents)\n",
    "        raw_documents.extend(chunks)\n",
    "\n",
    "    vector_store = FAISS.from_documents(raw_documents, embeddings)\n",
    "    vector_store.save_local(index_dir)"
   ],
   "id": "272896d7e3e96ee1",
   "outputs": [],
   "execution_count": 87
  },
  {
   "metadata": {
    "ExecuteTime": {
     "end_time": "2025-06-24T10:03:26.893734Z",
     "start_time": "2025-06-24T10:03:26.447150Z"
    }
   },
   "cell_type": "code",
   "source": [
    "query = \"How to stay physically active?\"\n",
    "docs = vector_store.similarity_search_with_score(query, k=5)\n",
    "\n",
    "for doc, score in docs:\n",
    "    print(f\"Score: {score}\")\n",
    "    print(doc.page_content)\n",
    "    print(\"-\" * 50)"
   ],
   "id": "ecb72eafe555a787",
   "outputs": [
    {
     "name": "stdout",
     "output_type": "stream",
     "text": [
      "Score: 0.9188239574432373\n",
      "Exercise 1\n",
      "\n",
      "Sit in a comfortable chair and see how still you can keep. This\n",
      "is not as easy as it seems. You will have to center your\n",
      "attention on sitting still. Watch and see that you are not making\n",
      "any involuntary muscular movements. By a little practice you will\n",
      "find you are able to sit still without a movement of the muscles\n",
      "for fifteen minutes. At first I advise sitting in a relaxed\n",
      "position for five minutes. After you are able to keep perfectly\n",
      "still, increase the time to ten minutes and then to fifteen. This\n",
      "is as long as it is necessary. But never strain yourself to keep\n",
      "still. You must be relaxed completely. You will find this habit\n",
      "of relaxing is very good.\n",
      "\n",
      "\n",
      "Exercise 2\n",
      "\n",
      "Sit in a chair with your head up and your chin out, shoulders\n",
      "back. Raise your right arm until it is on the level with your\n",
      "shoulder, pointing to your right. Look around, with head only,\n",
      "and fix your gaze on your fingers, and keep the arm perfectly\n",
      "--------------------------------------------------\n",
      "Score: 0.9456997513771057\n",
      "noticeable. Do this first for one moment and then increase it to\n",
      "five. Do the exercise with first one arm and then the other.\n",
      "\n",
      "\n",
      "Exercise 4\n",
      "\n",
      "Watch yourself during the day and see that your muscles do not\n",
      "become tense or strained. See how easy and relaxed you can keep\n",
      "yourself. See how poised you can be at all times. Cultivate a\n",
      "self-poised manner, instead of a nervous, strained appearance.\n",
      "This mental feeling will improve your carriage and demeanor. Stop\n",
      "all useless gestures and movements of the body. These mean that\n",
      "you have not proper control over your body. After you have\n",
      "acquired this control, notice how \"ill-at-ease\" people are that\n",
      "have not gained this control. I have just been sizing up a\n",
      "salesman that has just left me. Part of his body kept moving all\n",
      "the time. I just felt like saying to him, \"Do you know how much\n",
      "better appearance you would make if you would just learn to speak\n",
      "with your voice instead of trying to express what you say with\n",
      "--------------------------------------------------\n",
      "Score: 0.9495110511779785\n",
      "Many people who seem to lack ambition have sluggish minds. They\n",
      "are steady, patient and seemingly have good control, but this\n",
      "does not say they are able to concentrate. These people are\n",
      "indolent, inactive, slow and listless, because they lack energy;\n",
      "they do not lose control because they have little force to\n",
      "control. They have no temper and it therefore cannot disturb\n",
      "them. Their actions are steady because they possess little\n",
      "energy. The natural person is internally strong, energetic and\n",
      "forceful, but his energy, force and strength, thoughts and\n",
      "physical movements are well under his control.\n",
      "\n",
      "If a person does not have energy, both mental and physical, he\n",
      "must develop it. If he has energy which he cannot direct and hold\n",
      "to a point he must learn to do so. A man may be very capable,\n",
      "but, unless he Wills to control his abilities, they will not do\n",
      "him any good.\n",
      "\n",
      "We hear so much talk about the benefit of physical culture, but\n",
      "the real benefit of this is really lost sight of. There is\n",
      "--------------------------------------------------\n",
      "Score: 0.9519551396369934\n",
      "other diversion. How much sleep do you think is daily obtained by the\n",
      "powerful healthy man who daily rattles up your street in charge of\n",
      "Carter Patterson's van?  I have consulted a doctor on this point.  He\n",
      "is a doctor who for twenty-four years has had a large general practice\n",
      "in a large flourishing suburb of London, inhabited by exactly such\n",
      "people as you and me.  He is a curt man, and his answer was curt:\n",
      "\n",
      "\"Most people sleep themselves stupid.\"\n",
      "\n",
      "He went on to give his opinion that nine men out of ten would have\n",
      "better health and more fun out of life if they spent less time in bed.\n",
      "\n",
      "Other doctors have confirmed this judgment, which, of course, does not\n",
      "apply to growing youths.\n",
      "\n",
      "Rise an hour, an hour and a half, or even two hours earlier; and--if\n",
      "you must--retire earlier when you can.  In the matter of exceeding\n",
      "programmes, you will accomplish as much in one morning hour as in two\n",
      "evening hours.  \"But,\" you say, \"I couldn't begin without some food,\n",
      "--------------------------------------------------\n",
      "Score: 0.9568358659744263\n",
      "exercises that follow are tedious and monotonous, but useful. If\n",
      "you will persist in them you will find they are very valuable, as\n",
      "they increase your powers of concentration.\n",
      "\n",
      "Before proceeding with the exercises I will answer a question\n",
      "that just comes to me. This person says after he works all day he\n",
      "is too tired to practice any exercise. But this is not true. We\n",
      "will say he comes home all tired out, eats his supper and sits\n",
      "down to rest. If his work has been mental, the thought which has\n",
      "been occupying his mind returns to him and this prevents him from\n",
      "securing the rest he needs.\n",
      "\n",
      "It is an admitted fact that certain thoughts call into operation\n",
      "a certain set of brain cells; the other cells, of course, are not\n",
      "busy at that time and are rested. Now if you take up something\n",
      "that is just different from what you have been doing during the\n",
      "day, you will use the cells that have not done anything and give\n",
      "those that have had work to do a rest. So you should regulate the\n",
      "--------------------------------------------------\n"
     ]
    }
   ],
   "execution_count": 90
  },
  {
   "metadata": {},
   "cell_type": "markdown",
   "source": "### Adding LLM Capabilities",
   "id": "f39ba298ccb590ec"
  },
  {
   "metadata": {
    "ExecuteTime": {
     "end_time": "2025-06-24T10:22:58.540169Z",
     "start_time": "2025-06-24T10:22:58.509919Z"
    }
   },
   "cell_type": "code",
   "source": "llm = ChatGoogleGenerativeAI(model=\"models/gemini-2.5-flash\")",
   "id": "6944b785ac86930b",
   "outputs": [],
   "execution_count": 99
  },
  {
   "metadata": {
    "ExecuteTime": {
     "end_time": "2025-06-24T10:28:14.682781Z",
     "start_time": "2025-06-24T10:28:12.670439Z"
    }
   },
   "cell_type": "code",
   "source": [
    "user_query = \"How can I build better mental determination?\"\n",
    "\n",
    "docs = vector_store.similarity_search_with_score(user_query, k=5)\n",
    "\n",
    "context = \"\\n\\n\".join([doc.page_content for doc, score in docs])\n",
    "print(context)"
   ],
   "id": "d5746f57141a8e1b",
   "outputs": [
    {
     "name": "stdout",
     "output_type": "stream",
     "text": [
      "determination used determines who has the strongest will. No\n",
      "one's is stronger than yours. Think of this whenever you go\n",
      "against a strong opponent.\n",
      "\n",
      "Never say \"I can't concentrate today.\" You can do it just the\n",
      "minute you say \"I will.\" You can keep your thoughts from\n",
      "straying, just the same as you can control your arms. When once\n",
      "you realize this fact, you can train the will to concentrate on\n",
      "anything you wish. If it wanders, it is your fault. You are not\n",
      "utilizing your will. But, don't blame it on your will and say it\n",
      "is weak. The will is just the same whether you act as if it were\n",
      "weak or as if it were strong. When you act as if your will is\n",
      "strong you say, \"I can.\" When you act as if it were weak you say,\n",
      "\"I can't.\" It requires the same amount of effort, in each case.\n",
      "\n",
      "Some men get in the habit of thinking \"I can't\" and they fail.\n",
      "Others think \"I can\" and succeed. So remember, it is for you to\n",
      "decide whether you will join the army of \"I can't\" or \"I can.\"\n",
      "\n",
      "possible. Once this has been formed it should never be allowed to\n",
      "cease to press its claim until its object is attained. To make\n",
      "plans work out it will, at times, be necessary to use every power\n",
      "of your mind. Patience, perseverance and all the indomitable\n",
      "forces within one will have to be mustered and used with the\n",
      "greatest effectiveness.\n",
      "\n",
      "Perseverance is the first element of success. In order to\n",
      "persevere you must be ceaseless in your application. It requires\n",
      "you to concentrate your thoughts upon your undertaking and bring\n",
      "every energy to bear upon keeping them focused upon it until you\n",
      "have accomplished your aim. To quit short of this is to weaken\n",
      "all future efforts.\n",
      "\n",
      "The Mental Demand seems an unreal power because it is intangible;\n",
      "but it is the mightiest power in the world. It is a power that is\n",
      "free for you to use. No one can use it for you. The Mental Demand\n",
      "is not a visionary one. It is a potent force, which you can use\n",
      "\n",
      "extending the throttle to the top notch. It is then keyed up to\n",
      "its maximum speed. The same is true of two runners. They start\n",
      "off together and gradually they increase their desire to go\n",
      "faster. The one that has the greatest intensity of desire will\n",
      "win. He may outdistance the other by only a fraction of an inch,\n",
      "yet he gets the laurels.\n",
      "\n",
      "The men that are looked upon as the world's successes have not\n",
      "always been men of great physical power, nor at the start did\n",
      "they seem very well adapted to the conditions which encompassed\n",
      "them. In the beginning they were not considered men of superior\n",
      "genius, but they won their success by their resolution to achieve\n",
      "results in their undertakings by permitting no set-back to\n",
      "dishearten them; no difficulties to daunt them. Nothing could\n",
      "turn them or influence them against their determination. They\n",
      "never lost sight of their goal. In all of us there is this silent\n",
      "force of wonderful power. If developed, it can overcome\n",
      "\n",
      "know when you make a resolution that you will keep it. You do not\n",
      "tackle new tasks in a half-hearted way, but with a bold, brave\n",
      "spirit. We know that the will is able to carry us over big\n",
      "obstacles. Knowing this despair never claims us for a victim. We\n",
      "have wills and are going to use them with more and more\n",
      "intensity, thus giving us the power to make our resolutions\n",
      "stronger, our actions freer and our lives finer and better.\n",
      "\n",
      "The education of the will should not be left to chance. It is\n",
      "only definite tasks that will render it energetic, ready,\n",
      "persevering and consistent. The only way it can be done is by\n",
      "self-study and self-discipline. The cost is effort, time and\n",
      "patience, but the returns are valuable. There are no magical\n",
      "processes leading to will development, but the development of\n",
      "your will works wonders for you because it gives you\n",
      "self-mastery, personal power and energy of character.\n",
      "\n",
      "Concentration of the Will to Win. The adaptability of persons to\n",
      "\n",
      "attitude of the mind affects the expression of the face,\n",
      "determines action, changes our physical condition and regulates\n",
      "our lives.\n",
      "\n",
      "I will not here attempt to explain the silent force that achieves\n",
      "results. You want to develop your mental powers so you can effect\n",
      "the thing sought, and that is what I want to teach you. There is\n",
      "wonderful power and possibility in the concentrated Mental\n",
      "Demand. This, like all other forces, is controlled by laws. It\n",
      "can, like all other forces, be wonderfully increased by\n",
      "consecutive, systematized effort.\n",
      "\n",
      "The mental demand must be directed by every power of the mind and\n",
      "every possible element should be used to make the demand\n",
      "materialize. You can so intently desire a thing that you can\n",
      "exclude all distracting thoughts. When you practice this\n",
      "singleness of concentration until you attain the end sought, you\n",
      "have developed a Will capable of accomplishing whatever you wish.\n",
      "\n",
      "As long as you can only do the ordinary things you will be\n"
     ]
    }
   ],
   "execution_count": 107
  },
  {
   "metadata": {
    "ExecuteTime": {
     "end_time": "2025-06-24T10:28:16.933652Z",
     "start_time": "2025-06-24T10:28:16.928519Z"
    }
   },
   "cell_type": "code",
   "source": [
    "prompt = f\"\"\"\n",
    "    You are a helpful self-help advisor.\n",
    "    Answer the questions in clear, practical, and concise points.\n",
    "    Use the following context from classic self-help books to guide your response.\n",
    "\n",
    "    User's questions: {user_query}\n",
    "\n",
    "    Relevant Documents: {context}\n",
    "\n",
    "    Answer:\n",
    "\"\"\""
   ],
   "id": "fea054ba4692bf08",
   "outputs": [],
   "execution_count": 108
  },
  {
   "metadata": {
    "ExecuteTime": {
     "end_time": "2025-06-24T10:28:27.676337Z",
     "start_time": "2025-06-24T10:28:17.280506Z"
    }
   },
   "cell_type": "code",
   "source": [
    "response = llm.invoke(prompt)\n",
    "print(response.content)"
   ],
   "id": "7c322b5d40c82a8c",
   "outputs": [
    {
     "name": "stdout",
     "output_type": "stream",
     "text": [
      "To build better mental determination, focus on these practical principles:\n",
      "\n",
      "*   **Believe in Your Inherent Willpower:** Understand that your will is as strong as anyone's. The strength of your will is determined by how you choose to use it, not by an innate weakness.\n",
      "*   **Adopt an \"I Can\" Mindset:** Consistently choose to think and act from a position of \"I can,\" rather than \"I can't.\" Both require effort, but the \"I can\" attitude leads to success.\n",
      "*   **Take Responsibility for Your Focus:** Recognize that you have direct control over your thoughts and can prevent them from straying. If your mind wanders, it's a failure to utilize your will, not a sign that your will is weak.\n",
      "*   **Practice Ceaseless Application and Perseverance:** Once you form a plan or set a goal, press its claim relentlessly until it's attained. Do not quit prematurely, as this weakens all future efforts.\n",
      "*   **Cultivate Intense Concentration:** Direct every power of your mind and energy towards your undertaking. Practice single-minded focus to exclude all distracting thoughts until your aim is accomplished. This develops a will capable of achieving anything you desire.\n",
      "*   **Develop Unyielding Resolution:** Refuse to be disheartened by setbacks or daunted by difficulties. Maintain a clear sight of your goal and let nothing turn you from your determination.\n",
      "*   **Educate Your Will Through Discipline:** Don't leave the development of your will to chance. Engage in definite tasks, self-study, and self-discipline. This systematic effort makes your will energetic, ready, persevering, and consistent, leading to self-mastery.\n",
      "*   **Increase Intensity of Effort:** Consciously use your will with more and more intensity. This deliberate effort strengthens your resolutions and enhances your capacity to overcome obstacles.\n"
     ]
    }
   ],
   "execution_count": 109
  }
 ],
 "metadata": {
  "kernelspec": {
   "display_name": "Python 3",
   "language": "python",
   "name": "python3"
  },
  "language_info": {
   "codemirror_mode": {
    "name": "ipython",
    "version": 2
   },
   "file_extension": ".py",
   "mimetype": "text/x-python",
   "name": "python",
   "nbconvert_exporter": "python",
   "pygments_lexer": "ipython2",
   "version": "2.7.6"
  }
 },
 "nbformat": 4,
 "nbformat_minor": 5
}
