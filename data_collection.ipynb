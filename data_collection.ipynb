{
 "cells": [
  {
   "metadata": {
    "ExecuteTime": {
     "end_time": "2025-06-23T11:59:59.925393Z",
     "start_time": "2025-06-23T11:59:59.918254Z"
    }
   },
   "cell_type": "code",
   "source": [
    "from selenium import webdriver\n",
    "from selenium.webdriver.chrome.service import Service\n",
    "from selenium.webdriver.common.keys import Keys\n",
    "from selenium.webdriver.common.by import By"
   ],
   "id": "fbc121e30a2defb3",
   "outputs": [],
   "execution_count": 8
  },
  {
   "metadata": {
    "ExecuteTime": {
     "end_time": "2025-06-23T12:17:38.786377Z",
     "start_time": "2025-06-23T12:17:38.771322Z"
    }
   },
   "cell_type": "code",
   "source": [
    "list_of_books = [\n",
    "    \"As a Man Thinketh\",\n",
    "    \"The Science of Getting Rich\",\n",
    "    \"Think and Grow Rich\",\n",
    "    \"The Master Key System\",\n",
    "    \"Self-Reliance and Other Essays\",\n",
    "    \"How to Live on 24 Hours a Day\",\n",
    "    \"The Art of War\",\n",
    "    \"Meditations\",\n",
    "    \"Thus Spoke Zarathustra\",\n",
    "    \"The Way to Wealth\",\n",
    "    \"The Art of Public Speaking\",\n",
    "    \"An Iron Will\",\n",
    "    \"Character Building\",\n",
    "    \"The Power of Concentration\",\n",
    "    \"Dynamic Thought\",\n",
    "    \"The Kybalion\",\n",
    "    \"The Path of Prosperity\",\n",
    "    \"Your Invisible Power\",\n",
    "    \"Thought Vibration\"\n",
    "]\n",
    "list_of_books"
   ],
   "id": "3a4d8adbad580456",
   "outputs": [
    {
     "data": {
      "text/plain": [
       "['As a Man Thinketh',\n",
       " 'The Science of Getting Rich',\n",
       " 'Think and Grow Rich',\n",
       " 'The Master Key System',\n",
       " 'Self-Reliance and Other Essays',\n",
       " 'How to Live on 24 Hours a Day',\n",
       " 'The Art of War',\n",
       " 'Meditations',\n",
       " 'Thus Spoke Zarathustra',\n",
       " 'The Way to Wealth',\n",
       " 'The Art of Public Speaking',\n",
       " 'An Iron Will',\n",
       " 'Character Building',\n",
       " 'The Power of Concentration',\n",
       " 'Dynamic Thought',\n",
       " 'The Kybalion',\n",
       " 'The Path of Prosperity',\n",
       " 'Your Invisible Power',\n",
       " 'Thought Vibration']"
      ]
     },
     "execution_count": 13,
     "metadata": {},
     "output_type": "execute_result"
    }
   ],
   "execution_count": 13
  },
  {
   "metadata": {
    "ExecuteTime": {
     "end_time": "2025-06-23T12:18:27.614712Z",
     "start_time": "2025-06-23T12:18:23.109038Z"
    }
   },
   "cell_type": "code",
   "source": [
    "service = Service(executable_path='chromedriver.exe')\n",
    "driver = webdriver.Chrome(service=service)\n",
    "\n",
    "url = r\"https://www.gutenberg.org/\"\n",
    "driver.get(url)\n",
    "\n",
    "input_element = driver.find_element(By.CLASS_NAME, \"search-input\").click()"
   ],
   "id": "832c55cce9c804c4",
   "outputs": [],
   "execution_count": 15
  },
  {
   "metadata": {
    "ExecuteTime": {
     "end_time": "2025-06-23T11:59:00.087902Z",
     "start_time": "2025-06-23T11:59:00.082188Z"
    }
   },
   "cell_type": "code",
   "source": "",
   "id": "21576c70bc436f3d",
   "outputs": [],
   "execution_count": null
  }
 ],
 "metadata": {
  "kernelspec": {
   "display_name": "Python 3",
   "language": "python",
   "name": "python3"
  },
  "language_info": {
   "codemirror_mode": {
    "name": "ipython",
    "version": 2
   },
   "file_extension": ".py",
   "mimetype": "text/x-python",
   "name": "python",
   "nbconvert_exporter": "python",
   "pygments_lexer": "ipython2",
   "version": "2.7.6"
  }
 },
 "nbformat": 4,
 "nbformat_minor": 5
}
